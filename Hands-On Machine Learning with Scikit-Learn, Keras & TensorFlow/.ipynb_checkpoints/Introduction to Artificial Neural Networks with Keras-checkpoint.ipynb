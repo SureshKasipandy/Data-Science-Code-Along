{
 "cells": [
  {
   "cell_type": "markdown",
   "metadata": {},
   "source": [
    "## Imports"
   ]
  },
  {
   "cell_type": "code",
   "execution_count": 1,
   "metadata": {},
   "outputs": [],
   "source": [
    "import numpy as np\n",
    "from sklearn.datasets import load_iris\n",
    "from sklearn.linear_model import Perceptron\n",
    "import tensorflow as tf\n",
    "from tensorflow import keras"
   ]
  },
  {
   "cell_type": "markdown",
   "metadata": {},
   "source": [
    "## Scikit-Learn Perceptron"
   ]
  },
  {
   "cell_type": "code",
   "execution_count": 2,
   "metadata": {},
   "outputs": [
    {
     "data": {
      "text/plain": [
       "array([0, 1])"
      ]
     },
     "execution_count": 2,
     "metadata": {},
     "output_type": "execute_result"
    }
   ],
   "source": [
    "iris = load_iris()\n",
    "X = iris.data[:, (2, 3)] #only selecting petal length and width features\n",
    "y = (iris.target==0).astype(np.int)\n",
    "\n",
    "per_clf = Perceptron()\n",
    "per_clf.fit(X, y)\n",
    "\n",
    "y_pred = per_clf.predict([[2, 0.5], [1.4, 0.2]])\n",
    "y_pred"
   ]
  },
  {
   "cell_type": "markdown",
   "metadata": {},
   "source": [
    "## Keras - Fashion MNIST\n",
    "###  Load data"
   ]
  },
  {
   "cell_type": "code",
   "execution_count": 3,
   "metadata": {},
   "outputs": [],
   "source": [
    "fashion_mnist = keras.datasets.fashion_mnist\n",
    "(X_train_full, y_train_full), (X_test, y_test) = fashion_mnist.load_data()\n",
    "\n",
    "X_valid, X_train = X_train_full[:5000]/255, X_train_full[5000:]/255\n",
    "y_valid, y_train = y_train_full[:5000], y_train_full[5000:]\n",
    "\n",
    "class_names = ['T-shirt/top', 'Trouser', 'Pullover', 'Dress', 'Coat', 'Sandal', 'Shirt', 'Sneaker', 'Bag', 'Ankle Boot']\n"
   ]
  },
  {
   "cell_type": "markdown",
   "metadata": {},
   "source": [
    "### Build the Neural Network"
   ]
  },
  {
   "cell_type": "code",
   "execution_count": 4,
   "metadata": {},
   "outputs": [],
   "source": [
    "model = keras.models.Sequential()\n",
    "model.add(keras.layers.Flatten(input_shape=[28, 28]))\n",
    "model.add(keras.layers.Dense(300, activation=\"relu\"))\n",
    "model.add(keras.layers.Dense(100, activation=\"relu\"))\n",
    "model.add(keras.layers.Dense(10, activation=\"softmax\"))"
   ]
  },
  {
   "cell_type": "code",
   "execution_count": 5,
   "metadata": {},
   "outputs": [
    {
     "name": "stdout",
     "output_type": "stream",
     "text": [
      "Model: \"sequential\"\n",
      "_________________________________________________________________\n",
      "Layer (type)                 Output Shape              Param #   \n",
      "=================================================================\n",
      "flatten (Flatten)            (None, 784)               0         \n",
      "_________________________________________________________________\n",
      "dense (Dense)                (None, 300)               235500    \n",
      "_________________________________________________________________\n",
      "dense_1 (Dense)              (None, 100)               30100     \n",
      "_________________________________________________________________\n",
      "dense_2 (Dense)              (None, 10)                1010      \n",
      "=================================================================\n",
      "Total params: 266,610\n",
      "Trainable params: 266,610\n",
      "Non-trainable params: 0\n",
      "_________________________________________________________________\n"
     ]
    }
   ],
   "source": [
    "model.summary()"
   ]
  },
  {
   "cell_type": "markdown",
   "metadata": {},
   "source": [
    "### Accessing a model's layers"
   ]
  },
  {
   "cell_type": "code",
   "execution_count": 6,
   "metadata": {},
   "outputs": [
    {
     "data": {
      "text/plain": [
       "[<tensorflow.python.keras.layers.core.Flatten at 0x23a44092948>,\n",
       " <tensorflow.python.keras.layers.core.Dense at 0x23a439bdcc8>,\n",
       " <tensorflow.python.keras.layers.core.Dense at 0x23a4c2d5f88>,\n",
       " <tensorflow.python.keras.layers.core.Dense at 0x23abf03efc8>]"
      ]
     },
     "execution_count": 6,
     "metadata": {},
     "output_type": "execute_result"
    }
   ],
   "source": [
    "model.layers"
   ]
  },
  {
   "cell_type": "markdown",
   "metadata": {},
   "source": [
    "#### Layer names"
   ]
  },
  {
   "cell_type": "code",
   "execution_count": 7,
   "metadata": {},
   "outputs": [
    {
     "data": {
      "text/plain": [
       "['flatten', 'dense', 'dense_1', 'dense_2']"
      ]
     },
     "execution_count": 7,
     "metadata": {},
     "output_type": "execute_result"
    }
   ],
   "source": [
    "[x.name for x in model.layers]"
   ]
  },
  {
   "cell_type": "markdown",
   "metadata": {},
   "source": [
    "#### Fetching a layer by its index"
   ]
  },
  {
   "cell_type": "code",
   "execution_count": 8,
   "metadata": {},
   "outputs": [
    {
     "data": {
      "text/plain": [
       "True"
      ]
     },
     "execution_count": 8,
     "metadata": {},
     "output_type": "execute_result"
    }
   ],
   "source": [
    "hidden_1 = model.layers[1]\n",
    "model.get_layer('dense') is hidden_1"
   ]
  },
  {
   "cell_type": "markdown",
   "metadata": {},
   "source": [
    "#### Layer Parameters"
   ]
  },
  {
   "cell_type": "code",
   "execution_count": 9,
   "metadata": {},
   "outputs": [],
   "source": [
    "weights, biases = hidden_1.get_weights()"
   ]
  },
  {
   "cell_type": "code",
   "execution_count": 10,
   "metadata": {},
   "outputs": [
    {
     "data": {
      "text/plain": [
       "array([[ 0.05928101,  0.0346683 , -0.0628988 , ...,  0.03896258,\n",
       "         0.06480795, -0.0587631 ],\n",
       "       [-0.06848514, -0.07359342,  0.01454646, ...,  0.00451446,\n",
       "        -0.0017158 , -0.04147208],\n",
       "       [-0.0661084 ,  0.03517204,  0.03485726, ...,  0.01639731,\n",
       "         0.04775663, -0.03875671],\n",
       "       ...,\n",
       "       [ 0.05031307, -0.06142837, -0.04709595, ...,  0.0302446 ,\n",
       "        -0.06153153,  0.0324171 ],\n",
       "       [ 0.00092524, -0.02505922,  0.02054995, ..., -0.04783811,\n",
       "        -0.01667557, -0.0092596 ],\n",
       "       [-0.00188813,  0.07011458, -0.06498121, ..., -0.01247179,\n",
       "         0.03675553, -0.0160292 ]], dtype=float32)"
      ]
     },
     "execution_count": 10,
     "metadata": {},
     "output_type": "execute_result"
    }
   ],
   "source": [
    "weights"
   ]
  },
  {
   "cell_type": "code",
   "execution_count": 11,
   "metadata": {},
   "outputs": [
    {
     "data": {
      "text/plain": [
       "array([0., 0., 0., 0., 0., 0., 0., 0., 0., 0., 0., 0., 0., 0., 0., 0., 0.,\n",
       "       0., 0., 0., 0., 0., 0., 0., 0., 0., 0., 0., 0., 0., 0., 0., 0., 0.,\n",
       "       0., 0., 0., 0., 0., 0., 0., 0., 0., 0., 0., 0., 0., 0., 0., 0., 0.,\n",
       "       0., 0., 0., 0., 0., 0., 0., 0., 0., 0., 0., 0., 0., 0., 0., 0., 0.,\n",
       "       0., 0., 0., 0., 0., 0., 0., 0., 0., 0., 0., 0., 0., 0., 0., 0., 0.,\n",
       "       0., 0., 0., 0., 0., 0., 0., 0., 0., 0., 0., 0., 0., 0., 0., 0., 0.,\n",
       "       0., 0., 0., 0., 0., 0., 0., 0., 0., 0., 0., 0., 0., 0., 0., 0., 0.,\n",
       "       0., 0., 0., 0., 0., 0., 0., 0., 0., 0., 0., 0., 0., 0., 0., 0., 0.,\n",
       "       0., 0., 0., 0., 0., 0., 0., 0., 0., 0., 0., 0., 0., 0., 0., 0., 0.,\n",
       "       0., 0., 0., 0., 0., 0., 0., 0., 0., 0., 0., 0., 0., 0., 0., 0., 0.,\n",
       "       0., 0., 0., 0., 0., 0., 0., 0., 0., 0., 0., 0., 0., 0., 0., 0., 0.,\n",
       "       0., 0., 0., 0., 0., 0., 0., 0., 0., 0., 0., 0., 0., 0., 0., 0., 0.,\n",
       "       0., 0., 0., 0., 0., 0., 0., 0., 0., 0., 0., 0., 0., 0., 0., 0., 0.,\n",
       "       0., 0., 0., 0., 0., 0., 0., 0., 0., 0., 0., 0., 0., 0., 0., 0., 0.,\n",
       "       0., 0., 0., 0., 0., 0., 0., 0., 0., 0., 0., 0., 0., 0., 0., 0., 0.,\n",
       "       0., 0., 0., 0., 0., 0., 0., 0., 0., 0., 0., 0., 0., 0., 0., 0., 0.,\n",
       "       0., 0., 0., 0., 0., 0., 0., 0., 0., 0., 0., 0., 0., 0., 0., 0., 0.,\n",
       "       0., 0., 0., 0., 0., 0., 0., 0., 0., 0., 0.], dtype=float32)"
      ]
     },
     "execution_count": 11,
     "metadata": {},
     "output_type": "execute_result"
    }
   ],
   "source": [
    "biases"
   ]
  },
  {
   "cell_type": "markdown",
   "metadata": {},
   "source": [
    "### Compiling the model"
   ]
  },
  {
   "cell_type": "code",
   "execution_count": 12,
   "metadata": {},
   "outputs": [],
   "source": [
    "model.compile(loss = \"sparse_categorical_crossentropy\", optimizer = \"sgd\", metrics = [\"accuracy\"])"
   ]
  },
  {
   "cell_type": "markdown",
   "metadata": {},
   "source": [
    "### Training and evaluating the model"
   ]
  },
  {
   "cell_type": "code",
   "execution_count": 13,
   "metadata": {},
   "outputs": [
    {
     "name": "stdout",
     "output_type": "stream",
     "text": [
      "Train on 55000 samples, validate on 5000 samples\n",
      "Epoch 1/30\n",
      "55000/55000 [==============================] - 6s 116us/sample - loss: 0.7187 - accuracy: 0.7667 - val_loss: 0.5128 - val_accuracy: 0.8222\n",
      "Epoch 2/30\n",
      "55000/55000 [==============================] - 5s 91us/sample - loss: 0.4909 - accuracy: 0.8281 - val_loss: 0.4340 - val_accuracy: 0.8572\n",
      "Epoch 3/30\n",
      "55000/55000 [==============================] - 5s 85us/sample - loss: 0.4464 - accuracy: 0.8451 - val_loss: 0.4462 - val_accuracy: 0.8390\n",
      "Epoch 4/30\n",
      "55000/55000 [==============================] - 5s 89us/sample - loss: 0.4198 - accuracy: 0.8525 - val_loss: 0.4122 - val_accuracy: 0.8582\n",
      "Epoch 5/30\n",
      "55000/55000 [==============================] - 5s 94us/sample - loss: 0.3991 - accuracy: 0.8599 - val_loss: 0.3971 - val_accuracy: 0.8626\n",
      "Epoch 6/30\n",
      "55000/55000 [==============================] - 5s 100us/sample - loss: 0.3823 - accuracy: 0.8655 - val_loss: 0.3797 - val_accuracy: 0.8734\n",
      "Epoch 7/30\n",
      "55000/55000 [==============================] - 5s 96us/sample - loss: 0.3702 - accuracy: 0.8695 - val_loss: 0.3645 - val_accuracy: 0.8756\n",
      "Epoch 8/30\n",
      "55000/55000 [==============================] - 5s 89us/sample - loss: 0.3573 - accuracy: 0.8728 - val_loss: 0.3485 - val_accuracy: 0.8780\n",
      "Epoch 9/30\n",
      "55000/55000 [==============================] - 5s 89us/sample - loss: 0.3466 - accuracy: 0.8762 - val_loss: 0.3685 - val_accuracy: 0.8688\n",
      "Epoch 10/30\n",
      "55000/55000 [==============================] - 5s 85us/sample - loss: 0.3362 - accuracy: 0.8800 - val_loss: 0.3512 - val_accuracy: 0.8760\n",
      "Epoch 11/30\n",
      "55000/55000 [==============================] - 5s 89us/sample - loss: 0.3266 - accuracy: 0.8835 - val_loss: 0.3466 - val_accuracy: 0.8822\n",
      "Epoch 12/30\n",
      "55000/55000 [==============================] - 5s 89us/sample - loss: 0.3204 - accuracy: 0.8855 - val_loss: 0.3267 - val_accuracy: 0.8830\n",
      "Epoch 13/30\n",
      "55000/55000 [==============================] - 5s 90us/sample - loss: 0.3112 - accuracy: 0.8880 - val_loss: 0.3279 - val_accuracy: 0.8850\n",
      "Epoch 14/30\n",
      "55000/55000 [==============================] - 5s 86us/sample - loss: 0.3039 - accuracy: 0.8913 - val_loss: 0.3400 - val_accuracy: 0.8768\n",
      "Epoch 15/30\n",
      "55000/55000 [==============================] - 5s 88us/sample - loss: 0.2979 - accuracy: 0.8924 - val_loss: 0.3403 - val_accuracy: 0.8804\n",
      "Epoch 16/30\n",
      "55000/55000 [==============================] - 5s 85us/sample - loss: 0.2916 - accuracy: 0.8953 - val_loss: 0.3195 - val_accuracy: 0.8854\n",
      "Epoch 17/30\n",
      "55000/55000 [==============================] - 5s 89us/sample - loss: 0.2847 - accuracy: 0.8985 - val_loss: 0.3129 - val_accuracy: 0.8912\n",
      "Epoch 18/30\n",
      "55000/55000 [==============================] - 5s 86us/sample - loss: 0.2795 - accuracy: 0.8990 - val_loss: 0.3313 - val_accuracy: 0.8822\n",
      "Epoch 19/30\n",
      "55000/55000 [==============================] - 5s 85us/sample - loss: 0.2743 - accuracy: 0.9009 - val_loss: 0.3248 - val_accuracy: 0.8828\n",
      "Epoch 20/30\n",
      "55000/55000 [==============================] - 5s 91us/sample - loss: 0.2690 - accuracy: 0.9011 - val_loss: 0.3033 - val_accuracy: 0.8920\n",
      "Epoch 21/30\n",
      "55000/55000 [==============================] - 5s 91us/sample - loss: 0.2638 - accuracy: 0.9039 - val_loss: 0.3151 - val_accuracy: 0.8890\n",
      "Epoch 22/30\n",
      "55000/55000 [==============================] - 5s 88us/sample - loss: 0.2595 - accuracy: 0.9053 - val_loss: 0.3063 - val_accuracy: 0.8914\n",
      "Epoch 23/30\n",
      "55000/55000 [==============================] - 5s 98us/sample - loss: 0.2552 - accuracy: 0.9071 - val_loss: 0.3081 - val_accuracy: 0.8920\n",
      "Epoch 24/30\n",
      "55000/55000 [==============================] - 5s 87us/sample - loss: 0.2506 - accuracy: 0.9087 - val_loss: 0.3206 - val_accuracy: 0.8894\n",
      "Epoch 25/30\n",
      "55000/55000 [==============================] - 5s 85us/sample - loss: 0.2471 - accuracy: 0.9111 - val_loss: 0.3088 - val_accuracy: 0.8914\n",
      "Epoch 26/30\n",
      "55000/55000 [==============================] - 5s 86us/sample - loss: 0.2424 - accuracy: 0.9131 - val_loss: 0.2980 - val_accuracy: 0.8930\n",
      "Epoch 27/30\n",
      "55000/55000 [==============================] - 5s 88us/sample - loss: 0.2385 - accuracy: 0.9138 - val_loss: 0.3164 - val_accuracy: 0.8894\n",
      "Epoch 28/30\n",
      "55000/55000 [==============================] - 5s 91us/sample - loss: 0.2348 - accuracy: 0.9152 - val_loss: 0.3109 - val_accuracy: 0.8902\n",
      "Epoch 29/30\n",
      "55000/55000 [==============================] - 5s 92us/sample - loss: 0.2303 - accuracy: 0.9163 - val_loss: 0.2992 - val_accuracy: 0.8918\n",
      "Epoch 30/30\n",
      "55000/55000 [==============================] - 5s 91us/sample - loss: 0.2267 - accuracy: 0.9174 - val_loss: 0.2997 - val_accuracy: 0.8922\n"
     ]
    }
   ],
   "source": [
    "history = model.fit(X_train, y_train, epochs = 30, validation_data = (X_valid, y_valid))"
   ]
  },
  {
   "cell_type": "code",
   "execution_count": null,
   "metadata": {},
   "outputs": [],
   "source": []
  },
  {
   "cell_type": "code",
   "execution_count": null,
   "metadata": {},
   "outputs": [],
   "source": []
  },
  {
   "cell_type": "code",
   "execution_count": null,
   "metadata": {},
   "outputs": [],
   "source": []
  },
  {
   "cell_type": "code",
   "execution_count": null,
   "metadata": {},
   "outputs": [],
   "source": []
  },
  {
   "cell_type": "code",
   "execution_count": null,
   "metadata": {},
   "outputs": [],
   "source": []
  },
  {
   "cell_type": "code",
   "execution_count": null,
   "metadata": {},
   "outputs": [],
   "source": []
  }
 ],
 "metadata": {
  "kernelspec": {
   "display_name": "Python 3",
   "language": "python",
   "name": "python3"
  },
  "language_info": {
   "codemirror_mode": {
    "name": "ipython",
    "version": 3
   },
   "file_extension": ".py",
   "mimetype": "text/x-python",
   "name": "python",
   "nbconvert_exporter": "python",
   "pygments_lexer": "ipython3",
   "version": "3.7.4"
  }
 },
 "nbformat": 4,
 "nbformat_minor": 2
}
